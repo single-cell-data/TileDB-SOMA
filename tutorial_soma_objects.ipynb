{
 "cells": [
  {
   "cell_type": "code",
   "execution_count": null,
   "id": "ab458224-5353-4e15-baa9-46689729e071",
   "metadata": {
    "tags": []
   },
   "outputs": [],
   "source": [
    "import tiledbsoma"
   ]
  },
  {
   "cell_type": "code",
   "execution_count": null,
   "id": "20d435ab-7020-4e11-a71f-ac9b734f674a",
   "metadata": {
    "tags": []
   },
   "outputs": [],
   "source": [
    "from tiledbsoma.io.ingest import from_h5ad"
   ]
  },
  {
   "cell_type": "code",
   "execution_count": null,
   "id": "29d2ea30-47b7-4e78-a8af-da66b90124b2",
   "metadata": {
    "tags": []
   },
   "outputs": [],
   "source": [
    "e = from_h5ad(\"test\", \"/opt/cellxgene/example-dataset/pbmc3k.h5ad\", \"test_exp_name\")\n",
    "e.close()"
   ]
  },
  {
   "cell_type": "markdown",
   "id": "ca9f7272-09e0-4eda-a569-8796a14bf776",
   "metadata": {
    "tags": []
   },
   "source": [
    "## Experiment"
   ]
  },
  {
   "cell_type": "markdown",
   "id": "41358011-b835-4c3a-a75e-79a80f4cc3a1",
   "metadata": {},
   "source": [
    "An `Experiment` is a class that represents a single-cell experiment. It always contains two objects:\n",
    "1. `obs`: A `DataFrame` with primary annotations on the observation axis.\n",
    "2. `ms`: A `Collection` of measurements."
   ]
  },
  {
   "cell_type": "code",
   "execution_count": 83,
   "id": "c3af1793-e2be-45e1-8128-bb64536673f7",
   "metadata": {},
   "outputs": [
    {
     "data": {
      "text/plain": [
       "<Experiment '/opt/TileDB-SOMA/test/' (open for 'r') (2 items)\n",
       "    'ms': 'file:///opt/TileDB-SOMA/test/ms' (unopened)\n",
       "    'obs': 'file:///opt/TileDB-SOMA/test/obs' (unopened)>"
      ]
     },
     "execution_count": 83,
     "metadata": {},
     "output_type": "execute_result"
    }
   ],
   "source": [
    "experiment = tiledbsoma.open(\"/opt/TileDB-SOMA/test/\")\n",
    "experiment"
   ]
  },
  {
   "cell_type": "markdown",
   "id": "18ed8201-084b-4c09-bd45-9ad769318d3c",
   "metadata": {
    "tags": []
   },
   "source": [
    "Each object can be opened like this:"
   ]
  },
  {
   "cell_type": "code",
   "execution_count": 85,
   "id": "228e9411-434e-4c55-8fb4-fef3216dca08",
   "metadata": {
    "tags": []
   },
   "outputs": [
    {
     "data": {
      "text/plain": [
       "<Collection 'file:///opt/TileDB-SOMA/test/ms' (open for 'r') (2 items)\n",
       "    'raw': 'file:///opt/TileDB-SOMA/test/ms/raw' (unopened)\n",
       "    'test_exp_name': 'file:///opt/TileDB-SOMA/test/ms/test_exp_name' (unopened)>"
      ]
     },
     "execution_count": 85,
     "metadata": {},
     "output_type": "execute_result"
    }
   ],
   "source": [
    "experiment.ms"
   ]
  },
  {
   "cell_type": "code",
   "execution_count": 86,
   "id": "5d92e331-5c6c-4971-b956-442996d5efa9",
   "metadata": {
    "tags": []
   },
   "outputs": [
    {
     "data": {
      "text/plain": [
       "<DataFrame 'file:///opt/TileDB-SOMA/test/obs' (open for 'r')>"
      ]
     },
     "execution_count": 86,
     "metadata": {},
     "output_type": "execute_result"
    }
   ],
   "source": [
    "experiment.obs"
   ]
  },
  {
   "cell_type": "markdown",
   "id": "ebbd3605-7601-4142-8979-4748966d91d7",
   "metadata": {
    "tags": []
   },
   "source": [
    "Note that by default an `Experiment` is opened lazily, i.e. only the minimal requested objects are opened. \n",
    "\n",
    "Also, opening an object doesn't mean that it will entirely be fetched in memory. It only returns a pointer to the object on disk."
   ]
  },
  {
   "cell_type": "markdown",
   "id": "ccb496d3-09c7-4627-9ed1-eca5a87dc4b4",
   "metadata": {
    "tags": []
   },
   "source": [
    "## DataFrame"
   ]
  },
  {
   "cell_type": "markdown",
   "id": "71bb70de-5665-4e25-97bf-32d28d383f66",
   "metadata": {
    "tags": []
   },
   "source": [
    "A `DataFrame` is a multi-column table with a user-defined schema. The schema is expressed as an Arrow Schema, and defines the column names and value types."
   ]
  },
  {
   "cell_type": "markdown",
   "id": "7cfb6c9f-9101-4083-908a-c61c6b088110",
   "metadata": {
    "tags": []
   },
   "source": [
    "As an example, let's take a look at `obs`, which is represented as a DataFrame.\n",
    "\n",
    "We can inspect the schema using `.schema`:"
   ]
  },
  {
   "cell_type": "code",
   "execution_count": 100,
   "id": "66b67624-3cbe-4401-a297-e008cf18ab0b",
   "metadata": {
    "tags": []
   },
   "outputs": [
    {
     "data": {
      "text/plain": [
       "soma_joinid: int64\n",
       "obs_id: large_string\n",
       "n_genes: int64\n",
       "percent_mito: float\n",
       "n_counts: float\n",
       "louvain: large_string"
      ]
     },
     "execution_count": 100,
     "metadata": {},
     "output_type": "execute_result"
    }
   ],
   "source": [
    "obs = experiment.obs\n",
    "obs.schema"
   ]
  },
  {
   "cell_type": "markdown",
   "id": "dfcccee0-6d0a-4a8c-bf5a-897ed38c1749",
   "metadata": {
    "tags": []
   },
   "source": [
    "Note that `soma_joinid` is a field that exists in each `DataFrame` and acts as a join key for other objects, such as `SparseNDArray` (more on this later)."
   ]
  },
  {
   "cell_type": "markdown",
   "id": "6b60c290-7ce8-4324-9694-2b76b802dd9a",
   "metadata": {
    "tags": []
   },
   "source": [
    "## Collection"
   ]
  },
  {
   "cell_type": "markdown",
   "id": "c5db4661-6bee-4a58-9f0a-154b049fe33a",
   "metadata": {
    "tags": []
   },
   "source": [
    "## Measurement"
   ]
  },
  {
   "cell_type": "markdown",
   "id": "3d87abc9-08d2-4a15-b9f7-eb9ed4f9791e",
   "metadata": {
    "tags": []
   },
   "source": [
    "## DenseNDArray"
   ]
  },
  {
   "cell_type": "markdown",
   "id": "3c33cc1d-25b9-4973-b076-f78dce246cdd",
   "metadata": {},
   "source": [
    "## SparseNDArray"
   ]
  },
  {
   "cell_type": "code",
   "execution_count": null,
   "id": "cdb8c067-9e7f-41b3-b9b8-039f3c1ef439",
   "metadata": {
    "tags": []
   },
   "outputs": [],
   "source": [
    "# DataFrame\n",
    "obs = experiment.obs\n",
    "obs"
   ]
  },
  {
   "cell_type": "code",
   "execution_count": null,
   "id": "08811b20-06c8-4892-a2ff-4b40a871e4ae",
   "metadata": {
    "tags": []
   },
   "outputs": [],
   "source": [
    "# Collection\n",
    "ms = experiment.ms\n",
    "ms"
   ]
  },
  {
   "cell_type": "code",
   "execution_count": 94,
   "id": "420d9ac0-6474-416f-8fc9-9f0557ce1522",
   "metadata": {
    "tags": []
   },
   "outputs": [
    {
     "data": {
      "text/plain": [
       "<Measurement 'file:///opt/TileDB-SOMA/test/ms/test_exp_name' (open for 'r') (5 items)\n",
       "    'obsm': 'file:///opt/TileDB-SOMA/test/ms/test_exp_name/obsm' (unopened)\n",
       "    'varm': 'file:///opt/TileDB-SOMA/test/ms/test_exp_name/varm' (unopened)\n",
       "    'X': Collection 'file:///opt/TileDB-SOMA/test/ms/test_exp_name/X' (open for 'r') (1 item)\n",
       "        'data': DenseNDArray 'file:///opt/TileDB-SOMA/test/ms/test_exp_name/X/data' (open for 'r')\n",
       "    'obsp': 'file:///opt/TileDB-SOMA/test/ms/test_exp_name/obsp' (unopened)\n",
       "    'var': DataFrame 'file:///opt/TileDB-SOMA/test/ms/test_exp_name/var' (open for 'r')>"
      ]
     },
     "execution_count": 94,
     "metadata": {},
     "output_type": "execute_result"
    }
   ],
   "source": [
    "# Measurement \n",
    "meas = ms[\"test_exp_name\"]\n",
    "meas"
   ]
  },
  {
   "cell_type": "code",
   "execution_count": null,
   "id": "e4910598-1dd6-428f-b43c-263e0d340016",
   "metadata": {
    "tags": []
   },
   "outputs": [],
   "source": [
    "# DenseNDArray\n",
    "meas.X[\"data\"]"
   ]
  },
  {
   "cell_type": "code",
   "execution_count": null,
   "id": "ed6a016c-aee1-4dc3-ae68-5c90bd931300",
   "metadata": {
    "tags": []
   },
   "outputs": [],
   "source": [
    "# For SparseNDArray, convert the original h5ad to use a sparse matrix for X and re-open it\n",
    "\n",
    "import anndata as ad"
   ]
  },
  {
   "cell_type": "code",
   "execution_count": null,
   "id": "e709e145-d559-47bc-9c12-528404a8ff69",
   "metadata": {},
   "outputs": [],
   "source": []
  }
 ],
 "metadata": {
  "kernelspec": {
   "display_name": "Python 3 (ipykernel)",
   "language": "python",
   "name": "python3"
  },
  "language_info": {
   "codemirror_mode": {
    "name": "ipython",
    "version": 3
   },
   "file_extension": ".py",
   "mimetype": "text/x-python",
   "name": "python",
   "nbconvert_exporter": "python",
   "pygments_lexer": "ipython3",
   "version": "3.10.6"
  }
 },
 "nbformat": 4,
 "nbformat_minor": 5
}
