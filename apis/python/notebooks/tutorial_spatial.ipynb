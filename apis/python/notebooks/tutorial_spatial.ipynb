{
 "cells": [
  {
   "cell_type": "markdown",
   "id": "95e22ea9-c36f-4d3f-83b8-a9ed564404ba",
   "metadata": {},
   "source": [
    "# Spatial Tx: ingest 10x Visium sample data\n",
    "- Download sample data from https://cf.10xgenomics.com/samples/spatial-exp/2.1.0/CytAssist_FFPE_Protein_Expression_Human_Glioblastoma\n",
    "- Ingest into spatial SOMA\n",
    "- Read from SOMA, inspect/plot data\n",
    "\n",
    "**WARNING** _Spatial support is experimental and under active development. There will likely be breaking changes to both the storage format and API._"
   ]
  },
  {
   "cell_type": "code",
   "execution_count": 1,
   "id": "82b4bd80-4713-4f67-ab1e-f58c9e1113b2",
   "metadata": {},
   "outputs": [],
   "source": [
    "from functools import partial\n",
    "import numpy as np\n",
    "from os import makedirs, remove\n",
    "from os.path import basename, exists, join\n",
    "import shlex\n",
    "from shutil import rmtree\n",
    "from subprocess import check_call\n",
    "from sys import stderr\n",
    "from urllib.parse import urlparse\n",
    "err = partial(print, file=stderr)\n",
    "\n",
    "from tiledbsoma.experimental import from_visium\n",
    "from tiledbsoma import Experiment"
   ]
  },
  {
   "cell_type": "markdown",
   "id": "8ee20ecf-c6b2-497f-8a0d-a50c415e4d52",
   "metadata": {
    "editable": true,
    "slideshow": {
     "slide_type": ""
    },
    "tags": []
   },
   "source": [
    "[Papermill](https://papermill.readthedocs.io/en/latest/) parameters:"
   ]
  },
  {
   "cell_type": "code",
   "execution_count": 2,
   "id": "490207c4-aaf5-4729-9dca-d581aa59ac2d",
   "metadata": {
    "editable": true,
    "slideshow": {
     "slide_type": ""
    },
    "tags": [
     "parameters"
    ]
   },
   "outputs": [],
   "source": [
    "# 10x visium sample data paths to download; will be skipped if already present locally, unless `overwrite`\n",
    "url_base = 'https://cf.10xgenomics.com/samples/spatial-exp/2.1.0'\n",
    "dataset_name = 'CytAssist_FFPE_Protein_Expression_Human_Glioblastoma'\n",
    "filtered_h5 = 'CytAssist_FFPE_Protein_Expression_Human_Glioblastoma_filtered_feature_bc_matrix.h5'\n",
    "spatial_tar = 'CytAssist_FFPE_Protein_Expression_Human_Glioblastoma_spatial.tar.gz'\n",
    "\n",
    "# Local download/ingestion paths/configs:\n",
    "data_root = 'data'     # Sync 10x Visium spatial data into f\"{data_root}/{dataset_name}/10x\". By default, spatial SOMA data will be ingested into f\"{data_root}/{dataset_name}/soma\" as well.\n",
    "exp_uri = None         # Ingest spatial SOMA data here; defaults to f\"{data_root}/{dataset_name}/soma\"\n",
    "scene_name = \"scene1\"  # Scene name to write, in ingested spatial SOMA\n",
    "overwrite_10x = False  # If  already exists, remove and re-ingest it\n",
    "overwrite_exp = False  # If `exp_uri` already exists, remove and re-ingest it"
   ]
  },
  {
   "cell_type": "code",
   "execution_count": 3,
   "id": "3c210965-0abe-479f-a354-df921d7e64a3",
   "metadata": {},
   "outputs": [
    {
     "data": {
      "text/plain": [
       "'data/CytAssist_FFPE_Protein_Expression_Human_Glioblastoma/soma'"
      ]
     },
     "execution_count": 3,
     "metadata": {},
     "output_type": "execute_result"
    }
   ],
   "source": [
    "# Set default paths\n",
    "dataset_root = join(data_root, dataset_name)\n",
    "data_dir_10x = join(dataset_root, '10x')\n",
    "if exp_uri is None:\n",
    "    exp_uri = join(dataset_root, 'soma')\n",
    "exp_uri"
   ]
  },
  {
   "cell_type": "code",
   "execution_count": 4,
   "id": "1437667c-dbee-4f5c-b622-a0842733d227",
   "metadata": {},
   "outputs": [],
   "source": [
    "def sh(*cmd):\n",
    "    err(f\"Running: {shlex.join(cmd)}\")\n",
    "    check_call(cmd)    "
   ]
  },
  {
   "cell_type": "markdown",
   "id": "2686c818-e180-481a-86ec-6a0772d3019f",
   "metadata": {},
   "source": [
    "### Download sample data from 10x\n",
    "This section will download data from 10x and use that data to generate the TileDB-SOMA `Experiment` with spatial data."
   ]
  },
  {
   "cell_type": "code",
   "execution_count": 5,
   "id": "2ff659f3-219c-4564-90f5-5588652e1d16",
   "metadata": {},
   "outputs": [],
   "source": [
    "if exists(exp_uri):\n",
    "    if overwrite_exp:\n",
    "        err(f\"Removing {exp_uri}\")\n",
    "        rmtree(exp_uri)"
   ]
  },
  {
   "cell_type": "code",
   "execution_count": 6,
   "id": "e27b622a-a1d0-40c2-bea7-cc9a9bc80596",
   "metadata": {},
   "outputs": [],
   "source": [
    "paths = {\n",
    "    filtered_h5: 'filtered_feature_bc_matrix.h5',\n",
    "    spatial_tar: spatial_tar\n",
    "}\n",
    "if exists(exp_uri):\n",
    "    err(f\"{exp_uri} exists; skipping 10x data download\")\n",
    "else:\n",
    "    for src_name, dst_name in paths.items():\n",
    "        src = f'{url_base}/{dataset_name}/{src_name}'\n",
    "        dst = join(data_dir_10x, dst_name)\n",
    "        if exists(dst):\n",
    "            if overwrite_10x:\n",
    "                err(f\"{dst} exists, removing\")\n",
    "                remove(dst)\n",
    "        if not exists(dst):\n",
    "            makedirs(data_dir_10x, exist_ok=True)\n",
    "            sh('wget', '-qO', dst, src)\n",
    "            if dst.endswith('.tar.gz'):\n",
    "                sh('tar', '-C', data_dir_10x, '-xvf', dst)"
   ]
  },
  {
   "cell_type": "code",
   "execution_count": null,
   "id": "f8f71d9d-cdaf-4b9f-81f8-39473e930a7e",
   "metadata": {},
   "outputs": [
    {
     "name": "stderr",
     "output_type": "stream",
     "text": [
      "Ingesting data/CytAssist_FFPE_Protein_Expression_Human_Glioblastoma/10x to data/CytAssist_FFPE_Protein_Expression_Human_Glioblastoma/soma\n",
      "/home/julia/.pyenv/versions/3.11.8/envs/soma/lib/python3.11/site-packages/anndata/_core/anndata.py:1820: UserWarning: Variable names are not unique. To make them unique, call `.var_names_make_unique`.\n",
      "  utils.warn_names_duplicates(\"var\")\n",
      "/home/julia/.pyenv/versions/3.11.8/envs/soma/lib/python3.11/site-packages/anndata/_core/anndata.py:1820: UserWarning: Variable names are not unique. To make them unique, call `.var_names_make_unique`.\n",
      "  utils.warn_names_duplicates(\"var\")\n",
      "<frozen abc>:119: FutureWarning: SparseDataset is deprecated and will be removed in late 2024. It has been replaced by the public classes CSRDataset and CSCDataset.\n",
      "\n",
      "For instance checks, use `isinstance(X, (anndata.experimental.CSRDataset, anndata.experimental.CSCDataset))` instead.\n",
      "\n",
      "For creation, use `anndata.experimental.sparse_dataset(X)` instead.\n",
      "\n"
     ]
    }
   ],
   "source": [
    "if not exists(exp_uri):\n",
    "    err(f\"Ingesting {data_dir_10x} to {exp_uri}\")\n",
    "    from_visium(\n",
    "        exp_uri,\n",
    "        input_path=data_dir_10x,\n",
    "        measurement_name=\"RNA\",\n",
    "        scene_name=scene_name,\n",
    "        use_raw_counts=False,\n",
    "    )"
   ]
  },
  {
   "cell_type": "markdown",
   "id": "105bb39c-31c1-4c86-bbd3-5aabdff412e9",
   "metadata": {},
   "source": [
    "### Read and plot data"
   ]
  },
  {
   "cell_type": "markdown",
   "id": "adb6d87a-150e-4566-b3b1-2ad332c43efa",
   "metadata": {},
   "source": [
    "The new SOMA `Experiment` contains spatial data for this experiment stored in the `spatial` property of the Experiment. If we view the `spatial` collection we there is only one `Scene` named `scene1`."
   ]
  },
  {
   "cell_type": "code",
   "execution_count": null,
   "id": "bb2da825-7fd1-438e-b963-0ccee8036c9f",
   "metadata": {},
   "outputs": [],
   "source": [
    "exp = Experiment.open(exp_uri)\n",
    "exp.spatial"
   ]
  },
  {
   "cell_type": "markdown",
   "id": "7201b3db-58b0-4abd-933e-1ddde4e066e8",
   "metadata": {},
   "source": [
    "The scene contains three folders:\n",
    "* `img` - A collection that stores imagery data. In this Visium example, this stores an image pyramid for the slide images.\n",
    "* `obsl` - A collection that stores location data in the form of dataframes defined on the `obs` `somajoinid` (or `obs_id`). In this example, this contains a single dataframe with basic information about the Visium spot locations and sizes.\n",
    "* `varl` - A collection that stores location data in form form of dataframes defined on the `var` `somajoinid` (or `var_id`). This collection is nested with the first layer mapping from measurement name to a collection storing dataframes. There is no feature spatial data in the Visium example, so this collection is empty."
   ]
  },
  {
   "cell_type": "code",
   "execution_count": null,
   "id": "bab556a6-99ca-45a0-b896-75bca18c1026",
   "metadata": {},
   "outputs": [],
   "source": [
    "scene = exp.spatial[scene_name]\n",
    "scene"
   ]
  },
  {
   "cell_type": "markdown",
   "id": "0eb73cb8-a098-4cfe-8f50-260cb604bdd6",
   "metadata": {},
   "source": [
    "The scene is defined on a pixel coordinate space."
   ]
  },
  {
   "cell_type": "code",
   "execution_count": null,
   "id": "2a02b301-0b5a-4f9d-9783-455da82ff64e",
   "metadata": {},
   "outputs": [],
   "source": [
    "scene.coordinate_space"
   ]
  },
  {
   "cell_type": "markdown",
   "id": "b1cc8118-4053-4bb2-aa4c-480b0d4506eb",
   "metadata": {},
   "source": [
    "Inside the `img` collection, there is a `Image2DCollection` storing the slide images. Here we view basic information about the slide zoom levels and read the data in the `hires` image."
   ]
  },
  {
   "cell_type": "code",
   "execution_count": null,
   "id": "cfacf4cf-6b07-440b-a212-de579414bd32",
   "metadata": {},
   "outputs": [],
   "source": [
    "tissue_image = scene.img[\"tissue\"]\n",
    "tissue_image"
   ]
  },
  {
   "cell_type": "code",
   "execution_count": null,
   "id": "0e7d39ff-1c21-46ba-98b0-19f08308af02",
   "metadata": {},
   "outputs": [],
   "source": [
    "tissue_image.coordinate_space"
   ]
  },
  {
   "cell_type": "code",
   "execution_count": null,
   "id": "448a94ca-01a8-4ed4-a510-2b3cf4296ede",
   "metadata": {},
   "outputs": [],
   "source": [
    "tissue_image.level_count"
   ]
  },
  {
   "cell_type": "code",
   "execution_count": null,
   "id": "0f2e9150-0734-402b-957e-19f84548bf8b",
   "metadata": {},
   "outputs": [],
   "source": [
    "for level in range(tissue_image.level_count):\n",
    "    print(f\"Level {level}: {tissue_image.level_properties(level)}\")"
   ]
  },
  {
   "cell_type": "code",
   "execution_count": null,
   "id": "949c159b-52d6-4348-9e23-a22d28e7dfa5",
   "metadata": {},
   "outputs": [],
   "source": [
    "scene.transform_to_multiscale_image(\"tissue\")"
   ]
  },
  {
   "cell_type": "code",
   "execution_count": null,
   "id": "51c304bd-d647-4c17-bf96-448eba931a1c",
   "metadata": {},
   "outputs": [],
   "source": [
    "scene.transform_to_multiscale_image(\"tissue\", level=0)"
   ]
  },
  {
   "cell_type": "code",
   "execution_count": null,
   "id": "2f752475-3bc5-4d19-9e55-45f4c9f5dfe9",
   "metadata": {},
   "outputs": [],
   "source": [
    "im = tissue_image[\"hires\"].read().to_numpy()"
   ]
  },
  {
   "cell_type": "markdown",
   "id": "86658c38-d6ca-4e26-a65f-c39151c0d1e1",
   "metadata": {},
   "source": [
    "The `obsl` collection stores location data in the `loc` dataframe. This dataframes stores the spot locations of the Visium dataset with `soma_joinid` matching those used in the `obs` dataframe in the root `Experiment`."
   ]
  },
  {
   "cell_type": "code",
   "execution_count": null,
   "id": "ddf8a050-aef5-414a-a29d-11b290cac452",
   "metadata": {},
   "outputs": [],
   "source": [
    "spots_point_cloud = scene.obsl[\"loc\"]"
   ]
  },
  {
   "cell_type": "code",
   "execution_count": null,
   "id": "4e86469c-a466-4e19-9f02-df88a94b1a18",
   "metadata": {},
   "outputs": [],
   "source": [
    "spots_point_cloud.coordinate_space"
   ]
  },
  {
   "cell_type": "code",
   "execution_count": null,
   "id": "7f5c8863-cc51-4caa-9180-04d576df74a8",
   "metadata": {},
   "outputs": [],
   "source": [
    "scene.transform_to_point_cloud(\"loc\")"
   ]
  },
  {
   "cell_type": "code",
   "execution_count": null,
   "id": "b3c0d0db-da05-4a38-a114-07f1617cf1d9",
   "metadata": {},
   "outputs": [],
   "source": [
    "spots = spots_point_cloud.read().concat().to_pandas()\n",
    "spots"
   ]
  },
  {
   "cell_type": "code",
   "execution_count": null,
   "id": "943f2ff9-4832-4ee1-b0e1-07674660f5d5",
   "metadata": {},
   "outputs": [],
   "source": [
    "obs_df = exp.obs.read().concat().to_pandas()\n",
    "obs_df"
   ]
  },
  {
   "cell_type": "code",
   "execution_count": null,
   "id": "7adb1345-9386-44d2-9fc7-10455ae9152b",
   "metadata": {},
   "outputs": [],
   "source": [
    "joinid_counts = spots.soma_joinid.value_counts().value_counts()\n",
    "assert len(joinid_counts) == 1\n",
    "joinid_counts"
   ]
  },
  {
   "cell_type": "markdown",
   "id": "9e8d06c1-75e0-4535-b5dd-7f2bb920aba2",
   "metadata": {},
   "source": [
    "We take the data from the spot dataframe, convert it to the `hires` resolution, and plot the two images together."
   ]
  },
  {
   "cell_type": "code",
   "execution_count": null,
   "id": "09d76102-6244-463f-aeed-b96fd2cb1967",
   "metadata": {},
   "outputs": [],
   "source": [
    "# TODO: Replace this with direct coordinate transforms\n",
    "hires_transform = scene.transform_to_multiscale_image(\"tissue\", level=0) \n",
    "scale_x = hires_transform.scale_factors[0]\n",
    "scale_y = hires_transform.scale_factors[1]"
   ]
  },
  {
   "cell_type": "code",
   "execution_count": null,
   "id": "2260b4bf-60be-4c30-985d-4b85bb2bab27",
   "metadata": {},
   "outputs": [],
   "source": [
    "import matplotlib.patches as mplp\n",
    "from matplotlib.collections import PatchCollection\n",
    "\n",
    "radius = scene.obsl[\"loc\"].metadata[\"soma_geometry\"]\n",
    "spot_patches = PatchCollection([\n",
    "    mplp.Ellipse(\n",
    "        (scale_x * row[\"x\"], scale_y * row[\"y\"]),\n",
    "        width = radius * scale_x,\n",
    "        height = radius * scale_y,\n",
    "        fill=False,\n",
    "        alpha=0.8,\n",
    "    )\n",
    "    for _, row in spots.iterrows()\n",
    "])"
   ]
  },
  {
   "cell_type": "code",
   "execution_count": null,
   "id": "302577ff-4f75-4eeb-910f-aa1b51d1d075",
   "metadata": {},
   "outputs": [],
   "source": [
    "import matplotlib.pyplot as plt\n",
    "\n",
    "fig, ax = plt.subplots()\n",
    "ax.imshow(im)\n",
    "ax.add_collection(spot_patches)\n",
    "\n",
    "plt.show()"
   ]
  },
  {
   "cell_type": "code",
   "execution_count": null,
   "id": "84dfd24b-8551-41ef-a8fc-6e379bc5cb68",
   "metadata": {},
   "outputs": [],
   "source": []
  }
 ],
 "metadata": {
  "kernelspec": {
   "display_name": "Python 3 (ipykernel)",
   "language": "python",
   "name": "python3"
  },
  "language_info": {
   "codemirror_mode": {
    "name": "ipython",
    "version": 3
   },
   "file_extension": ".py",
   "mimetype": "text/x-python",
   "name": "python",
   "nbconvert_exporter": "python",
   "pygments_lexer": "ipython3",
   "version": "3.11.8"
  }
 },
 "nbformat": 4,
 "nbformat_minor": 5
}
