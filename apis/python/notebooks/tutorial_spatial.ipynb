{
 "cells": [
  {
   "cell_type": "markdown",
   "id": "95e22ea9-c36f-4d3f-83b8-a9ed564404ba",
   "metadata": {},
   "source": [
    "# Spatial Tx: ingest 10x Visium sample data\n",
    "- Download sample data from https://cf.10xgenomics.com/samples/spatial-exp/2.1.0/CytAssist_FFPE_Protein_Expression_Human_Glioblastoma\n",
    "- Ingest into spatial SOMA\n",
    "- Read from SOMA, inspect/plot data\n",
    "\n",
    "**WARNING** _Spatial support is experimental and under active development. There will likely be breaking changes to both the storage format and API._"
   ]
  },
  {
   "cell_type": "code",
   "execution_count": 1,
   "id": "82b4bd80-4713-4f67-ab1e-f58c9e1113b2",
   "metadata": {},
   "outputs": [],
   "source": [
    "from functools import partial\n",
    "import numpy as np\n",
    "from os import makedirs, remove\n",
    "from os.path import basename, exists, join\n",
    "import shlex\n",
    "from shutil import rmtree\n",
    "from subprocess import check_call\n",
    "from sys import stderr\n",
    "from urllib.parse import urlparse\n",
    "err = partial(print, file=stderr)\n",
    "\n",
    "import scanpy as sc\n",
    "\n",
    "from tiledbsoma.experimental import from_visium\n",
    "from tiledbsoma import Experiment\n",
    "import tiledbsoma\n",
    "\n",
    "import matplotlib as mpl\n",
    "import matplotlib.pyplot as plt\n",
    "import matplotlib.patches as mplp\n",
    "from matplotlib.collections import PatchCollection"
   ]
  },
  {
   "cell_type": "markdown",
   "id": "8ee20ecf-c6b2-497f-8a0d-a50c415e4d52",
   "metadata": {
    "editable": true,
    "slideshow": {
     "slide_type": ""
    },
    "tags": []
   },
   "source": [
    "[Papermill](https://papermill.readthedocs.io/en/latest/) parameters:"
   ]
  },
  {
   "cell_type": "code",
   "execution_count": 2,
   "id": "490207c4-aaf5-4729-9dca-d581aa59ac2d",
   "metadata": {
    "editable": true,
    "slideshow": {
     "slide_type": ""
    },
    "tags": [
     "parameters"
    ]
   },
   "outputs": [],
   "source": [
    "# 10x visium sample data paths to download; will be skipped if already present locally, unless `overwrite`\n",
    "url_base = 'https://cf.10xgenomics.com/samples/spatial-exp/2.1.0'\n",
    "dataset_name = 'CytAssist_FFPE_Protein_Expression_Human_Glioblastoma'\n",
    "filtered_h5 = 'CytAssist_FFPE_Protein_Expression_Human_Glioblastoma_filtered_feature_bc_matrix.h5'\n",
    "spatial_tar = 'CytAssist_FFPE_Protein_Expression_Human_Glioblastoma_spatial.tar.gz'\n",
    "\n",
    "# Local download/ingestion paths/configs:\n",
    "data_root = 'data'     # Sync 10x Visium spatial data into f\"{data_root}/{dataset_name}/10x\". By default, spatial SOMA data will be ingested into f\"{data_root}/{dataset_name}/soma\" as well.\n",
    "exp_uri = None         # Ingest spatial SOMA data here; defaults to f\"{data_root}/{dataset_name}/soma\"\n",
    "scene_name = \"scene1\"  # Scene name to write, in ingested spatial SOMA\n",
    "overwrite_10x = False  # If  already exists, remove and re-ingest it\n",
    "overwrite_exp = False  # If `exp_uri` already exists, remove and re-ingest it"
   ]
  },
  {
   "cell_type": "code",
   "execution_count": 3,
   "id": "3c210965-0abe-479f-a354-df921d7e64a3",
   "metadata": {},
   "outputs": [
    {
     "data": {
      "text/plain": [
       "'data/CytAssist_FFPE_Protein_Expression_Human_Glioblastoma/soma'"
      ]
     },
     "execution_count": 3,
     "metadata": {},
     "output_type": "execute_result"
    }
   ],
   "source": [
    "# Set default paths\n",
    "dataset_root = join(data_root, dataset_name)\n",
    "data_dir_10x = join(dataset_root, '10x')\n",
    "if exp_uri is None:\n",
    "    exp_uri = join(dataset_root, 'soma')\n",
    "exp_uri"
   ]
  },
  {
   "cell_type": "code",
   "execution_count": 4,
   "id": "1437667c-dbee-4f5c-b622-a0842733d227",
   "metadata": {},
   "outputs": [],
   "source": [
    "def sh(*cmd):\n",
    "    err(f\"Running: {shlex.join(cmd)}\")\n",
    "    check_call(cmd)    "
   ]
  },
  {
   "cell_type": "markdown",
   "id": "2686c818-e180-481a-86ec-6a0772d3019f",
   "metadata": {},
   "source": [
    "## Download sample data from 10x\n",
    "This section will download data from 10x and use that data to generate the TileDB-SOMA `Experiment` with spatial data."
   ]
  },
  {
   "cell_type": "code",
   "execution_count": 5,
   "id": "2ff659f3-219c-4564-90f5-5588652e1d16",
   "metadata": {},
   "outputs": [],
   "source": [
    "if exists(exp_uri):\n",
    "    if overwrite_exp:\n",
    "        err(f\"Removing {exp_uri}\")\n",
    "        rmtree(exp_uri)"
   ]
  },
  {
   "cell_type": "code",
   "execution_count": null,
   "id": "e27b622a-a1d0-40c2-bea7-cc9a9bc80596",
   "metadata": {},
   "outputs": [
    {
     "name": "stderr",
     "output_type": "stream",
     "text": [
      "Running: wget -qO data/CytAssist_FFPE_Protein_Expression_Human_Glioblastoma/10x/filtered_feature_bc_matrix.h5 https://cf.10xgenomics.com/samples/spatial-exp/2.1.0/CytAssist_FFPE_Protein_Expression_Human_Glioblastoma/CytAssist_FFPE_Protein_Expression_Human_Glioblastoma_filtered_feature_bc_matrix.h5\n"
     ]
    }
   ],
   "source": [
    "paths = {\n",
    "    filtered_h5: 'filtered_feature_bc_matrix.h5',\n",
    "    spatial_tar: spatial_tar\n",
    "}\n",
    "if exists(exp_uri):\n",
    "    err(f\"{exp_uri} exists; skipping 10x data download\")\n",
    "else:\n",
    "    for src_name, dst_name in paths.items():\n",
    "        src = f'{url_base}/{dataset_name}/{src_name}'\n",
    "        dst = join(data_dir_10x, dst_name)\n",
    "        if exists(dst):\n",
    "            if overwrite_10x:\n",
    "                err(f\"{dst} exists, removing\")\n",
    "                remove(dst)\n",
    "        if not exists(dst):\n",
    "            makedirs(data_dir_10x, exist_ok=True)\n",
    "            sh('wget', '-qO', dst, src)\n",
    "            if dst.endswith('.tar.gz'):\n",
    "                sh('tar', '-C', data_dir_10x, '-xvf', dst)"
   ]
  },
  {
   "cell_type": "code",
   "execution_count": null,
   "id": "f8f71d9d-cdaf-4b9f-81f8-39473e930a7e",
   "metadata": {},
   "outputs": [],
   "source": [
    "if not exists(exp_uri):\n",
    "    err(f\"Ingesting {data_dir_10x} to {exp_uri}\")\n",
    "    from_visium(\n",
    "        exp_uri,\n",
    "        input_path=data_dir_10x,\n",
    "        measurement_name=\"RNA\",\n",
    "        scene_name=scene_name,\n",
    "        use_raw_counts=False,\n",
    "    )"
   ]
  },
  {
   "cell_type": "markdown",
   "id": "105bb39c-31c1-4c86-bbd3-5aabdff412e9",
   "metadata": {},
   "source": [
    "## Data access"
   ]
  },
  {
   "cell_type": "markdown",
   "id": "adb6d87a-150e-4566-b3b1-2ad332c43efa",
   "metadata": {},
   "source": [
    "Spatial SOMA experiments can be acess and queries using any of `tiledbsoma`'s exsiting APIs."
   ]
  },
  {
   "cell_type": "code",
   "execution_count": null,
   "id": "bb2da825-7fd1-438e-b963-0ccee8036c9f",
   "metadata": {},
   "outputs": [],
   "source": [
    "exp = Experiment.open(exp_uri)\n",
    "exp.spatial"
   ]
  },
  {
   "cell_type": "markdown",
   "id": "9ee1c74c-5927-4bd5-b293-796980949e62",
   "metadata": {},
   "source": [
    "Here, we're loading the non-spatial elements into memory as a standard AnnData object."
   ]
  },
  {
   "cell_type": "code",
   "execution_count": null,
   "id": "b88871c4-c232-4d57-8d69-4499591258c3",
   "metadata": {},
   "outputs": [],
   "source": [
    "adata = tiledbsoma.io.to_anndata(\n",
    "    experiment=exp,\n",
    "    measurement_name=\"RNA\",\n",
    "    X_layer_name=\"data\",\n",
    ")\n",
    "\n",
    "adata"
   ]
  },
  {
   "cell_type": "markdown",
   "id": "8bffdb90-07c3-4d0c-babf-2dd2193ec8d8",
   "metadata": {},
   "source": [
    "Let's visualize the most highly expressed genes in the dataset."
   ]
  },
  {
   "cell_type": "code",
   "execution_count": null,
   "id": "f3698c67-6d11-4a2d-8ed7-1c578bb3d933",
   "metadata": {},
   "outputs": [],
   "source": [
    "sc.pl.highest_expr_genes(adata)"
   ]
  },
  {
   "cell_type": "markdown",
   "id": "7201b3db-58b0-4abd-933e-1ddde4e066e8",
   "metadata": {},
   "source": [
    "## Spatial components\n",
    "\n",
    "The new SOMA Experiment contains spatial data for this experiment stored in the spatial property of the Experiment. If we view the spatial collection we there is only one Scene named scene0."
   ]
  },
  {
   "cell_type": "code",
   "execution_count": null,
   "id": "bab556a6-99ca-45a0-b896-75bca18c1026",
   "metadata": {},
   "outputs": [],
   "source": [
    "scene = exp.spatial[scene_name]\n",
    "scene"
   ]
  },
  {
   "cell_type": "markdown",
   "id": "8cc219ee-d7d9-47ef-8d20-989766af9f82",
   "metadata": {},
   "source": [
    "The scene contains three folders:\n",
    "\n",
    "    img - A SOMA Collection that stores imagery data. In this example it contains an image pyramid for the high- and low-resolution slide.\n",
    "    obsl - A SOMA Collection storing location data in the form of SOMADataFrames defined on the obs somajoinid (or obs_id). In this example, this contains a single dataframe with basic information about the Visium spot locations and sizes.\n",
    "    varl - A collection that stores location data in form form of dataframes defined on the var somajoinid (or var_id). This collection is nested with the first layer mapping from measurement name to a collection storing dataframes. There is no feature spatial data in the Visium example, so this collection is empty.\n",
    "\n",
    "Inside the img collection, there is a Image2DCollection storing the slide images. Here we view basic information about the slide zoom levels and read the data in the hires image."
   ]
  },
  {
   "cell_type": "markdown",
   "id": "0eb73cb8-a098-4cfe-8f50-260cb604bdd6",
   "metadata": {},
   "source": [
    "The scene is defined on a pixel coordinate space."
   ]
  },
  {
   "cell_type": "code",
   "execution_count": null,
   "id": "2a02b301-0b5a-4f9d-9783-455da82ff64e",
   "metadata": {},
   "outputs": [],
   "source": [
    "scene.coordinate_space"
   ]
  },
  {
   "cell_type": "markdown",
   "id": "b1cc8118-4053-4bb2-aa4c-480b0d4506eb",
   "metadata": {},
   "source": [
    "## Images\n",
    "Inside the `img` collection, there is a `MultiscaleImage` storing the slide images. Here we view basic information about the slide zoom levels and read the data in the `hires` image."
   ]
  },
  {
   "cell_type": "code",
   "execution_count": null,
   "id": "cfacf4cf-6b07-440b-a212-de579414bd32",
   "metadata": {},
   "outputs": [],
   "source": [
    "tissue_image = scene.img[\"tissue\"]\n",
    "tissue_image"
   ]
  },
  {
   "cell_type": "code",
   "execution_count": null,
   "id": "0e7d39ff-1c21-46ba-98b0-19f08308af02",
   "metadata": {},
   "outputs": [],
   "source": [
    "tissue_image.coordinate_space"
   ]
  },
  {
   "cell_type": "markdown",
   "id": "13aac52d-e17b-419d-b01b-0e17ffef5b50",
   "metadata": {},
   "source": [
    "Use the level_count property to get the number of levels in the `MultiscaleImage`."
   ]
  },
  {
   "cell_type": "code",
   "execution_count": null,
   "id": "448a94ca-01a8-4ed4-a510-2b3cf4296ede",
   "metadata": {},
   "outputs": [],
   "source": [
    "tissue_image.level_count"
   ]
  },
  {
   "cell_type": "markdown",
   "id": "b9d2ea73-0bd7-4631-9759-5420200a3bfd",
   "metadata": {},
   "source": [
    "Examine the metadata for each image level in the \"tissue\" collection."
   ]
  },
  {
   "cell_type": "code",
   "execution_count": null,
   "id": "0f2e9150-0734-402b-957e-19f84548bf8b",
   "metadata": {},
   "outputs": [],
   "source": [
    "for level in range(tissue_image.level_count):\n",
    "    print(f\"Level {level} shape: {tissue_image.level_shape(level)}\")"
   ]
  },
  {
   "cell_type": "markdown",
   "id": "cc3d74f4-30e6-45a4-868d-9b979fd90bb5",
   "metadata": {},
   "source": [
    "Accessing individual elements of the `MultiscaleImage` collection returns a `DenseNDArray` that can be read using the standard API."
   ]
  },
  {
   "cell_type": "code",
   "execution_count": null,
   "id": "949c159b-52d6-4348-9e23-a22d28e7dfa5",
   "metadata": {},
   "outputs": [],
   "source": [
    "lowres = tissue_image[\"lowres\"]\n",
    "lowres"
   ]
  },
  {
   "cell_type": "code",
   "execution_count": null,
   "id": "c445af0d-b3ac-4a2b-a15c-f7e6a25dffeb",
   "metadata": {},
   "outputs": [],
   "source": [
    "im = lowres.read().to_numpy()"
   ]
  },
  {
   "cell_type": "code",
   "execution_count": null,
   "id": "5a8c2ca2-11d7-4856-b537-474dd15269e6",
   "metadata": {},
   "outputs": [],
   "source": [
    "im = np.moveaxis(im, 0, -1).astype(np.uint8)  # Move channel axis to final axis for viewing.\n",
    "plt.imshow(im)"
   ]
  },
  {
   "cell_type": "markdown",
   "id": "86658c38-d6ca-4e26-a65f-c39151c0d1e1",
   "metadata": {},
   "source": [
    "## Spatial Dataframe\n",
    "The `obsl` collection stores location data in the `loc` dataframe. This dataframes stores the spot locations of the Visium dataset with `soma_joinid` matching those used in the `obs` dataframe in the root `Experiment`."
   ]
  },
  {
   "cell_type": "code",
   "execution_count": null,
   "id": "ddf8a050-aef5-414a-a29d-11b290cac452",
   "metadata": {},
   "outputs": [],
   "source": [
    "spots_point_cloud = scene.obsl[\"loc\"]"
   ]
  },
  {
   "cell_type": "code",
   "execution_count": null,
   "id": "4e86469c-a466-4e19-9f02-df88a94b1a18",
   "metadata": {},
   "outputs": [],
   "source": [
    "spots_point_cloud.coordinate_space"
   ]
  },
  {
   "cell_type": "code",
   "execution_count": null,
   "id": "b3c0d0db-da05-4a38-a114-07f1617cf1d9",
   "metadata": {},
   "outputs": [],
   "source": [
    "spots = spots_point_cloud.read().concat().to_pandas()\n",
    "spots"
   ]
  },
  {
   "cell_type": "code",
   "execution_count": null,
   "id": "943f2ff9-4832-4ee1-b0e1-07674660f5d5",
   "metadata": {},
   "outputs": [],
   "source": [
    "obs_df = exp.obs.read().concat().to_pandas()\n",
    "obs_df"
   ]
  },
  {
   "cell_type": "code",
   "execution_count": null,
   "id": "7adb1345-9386-44d2-9fc7-10455ae9152b",
   "metadata": {},
   "outputs": [],
   "source": [
    "joinid_counts = spots.soma_joinid.value_counts().value_counts()\n",
    "assert len(joinid_counts) == 1\n",
    "joinid_counts"
   ]
  },
  {
   "cell_type": "markdown",
   "id": "9e8d06c1-75e0-4535-b5dd-7f2bb920aba2",
   "metadata": {},
   "source": [
    "We take the data from the spot dataframe and create a plot showing the regions in the tissue."
   ]
  },
  {
   "cell_type": "code",
   "execution_count": null,
   "id": "2260b4bf-60be-4c30-985d-4b85bb2bab27",
   "metadata": {},
   "outputs": [],
   "source": [
    "radius = scene.obsl[\"loc\"].metadata[\"soma_geometry\"]\n",
    "spot_patches = PatchCollection([\n",
    "    mplp.Circle((row[\"x\"], row[\"y\"]), radius=radius, color='b')\n",
    "    for _, row in spots.iterrows()\n",
    "])"
   ]
  },
  {
   "cell_type": "code",
   "execution_count": null,
   "id": "302577ff-4f75-4eeb-910f-aa1b51d1d075",
   "metadata": {},
   "outputs": [],
   "source": [
    "fig, ax = plt.subplots()\n",
    "ax.set_xlim([0, 24592])\n",
    "ax.set_ylim([0, 28202])\n",
    "ax.invert_yaxis()\n",
    "ax.add_collection(spot_patches)\n",
    "plt.show()"
   ]
  },
  {
   "cell_type": "markdown",
   "id": "ed95b530-4440-4d5a-97e9-03a0b3b9fa32",
   "metadata": {},
   "source": [
    "Reading a region using coordinate transforms."
   ]
  },
  {
   "cell_type": "markdown",
   "id": "333ee7c8-a756-471a-82c9-b0f9063eb7bd",
   "metadata": {},
   "source": [
    "## Using Coordinate Spaces and Transforms\n",
    "Coordinate spaces and coordinate transforms can be used to project both the Visium spots and the same image.\n",
    "\n",
    "The scene allows us to check the coordinate spaces of individual elements."
   ]
  },
  {
   "cell_type": "code",
   "execution_count": null,
   "id": "26593cd4-1bcf-472c-88ba-d9d305ee5720",
   "metadata": {},
   "outputs": [],
   "source": [
    "scene.get_transform_to_multiscale_image(\"tissue\")"
   ]
  },
  {
   "cell_type": "code",
   "execution_count": null,
   "id": "6a984e2a-8532-474b-82c8-bcc489f99f71",
   "metadata": {},
   "outputs": [],
   "source": [
    "scene.get_transform_to_multiscale_image(\"tissue\", level=1)"
   ]
  },
  {
   "cell_type": "code",
   "execution_count": null,
   "id": "8fa549eb-598d-4a0c-9ab9-dd1bfac4199b",
   "metadata": {},
   "outputs": [],
   "source": [
    "scene.get_transform_to_point_cloud_dataframe(\"loc\")"
   ]
  },
  {
   "cell_type": "markdown",
   "id": "01eab41a-780b-4546-8545-babaca17c48a",
   "metadata": {},
   "source": [
    "We want to take a piece of the region that both the multiscale image and point cloud are defined on to do the following:\n",
    "\n",
    "* Read the region from the highest resolution level of the multiscale image.\n",
    "* Read the region from the point cloud storing the spot locations.\n",
    "* Use the transformation from the multiscale image to adjust and output of the point cloud and plot the two items together."
   ]
  },
  {
   "cell_type": "code",
   "execution_count": null,
   "id": "18751a3c-0e29-4e00-ba58-3529e7164f6c",
   "metadata": {},
   "outputs": [],
   "source": [
    "x_min, x_max = (0, 12000)\n",
    "y_min, y_max = (14000, 24592)\n",
    "fullres_region = [x_min, y_min, x_max, y_max]\n",
    "fullres_to_image = scene.get_transform_to_multiscale_image(\"tissue\")"
   ]
  },
  {
   "cell_type": "code",
   "execution_count": null,
   "id": "02d18d4b-0caf-4fd5-ab6f-a0c8b2122069",
   "metadata": {},
   "outputs": [],
   "source": [
    "hires_read = tissue_image.read_spatial_region(0,  fullres_region, region_transform=fullres_to_image)\n",
    "hires_read"
   ]
  },
  {
   "cell_type": "code",
   "execution_count": null,
   "id": "42fa7736-659c-49e5-8219-09d0b0832778",
   "metadata": {},
   "outputs": [],
   "source": [
    "hires_read.coordinate_transform.augmented_matrix"
   ]
  },
  {
   "cell_type": "markdown",
   "id": "bca2cb55-e76a-4ab7-89bd-043ae7771e0e",
   "metadata": {},
   "source": [
    "We take the data from the spot dataframe, convert it to the hires resolution, and plot the two images together."
   ]
  },
  {
   "cell_type": "code",
   "execution_count": null,
   "id": "e136c1b9-3b7f-44ed-aa20-e2abdb1868e1",
   "metadata": {},
   "outputs": [],
   "source": [
    "point_reader = scene.obsl[\"loc\"].read_spatial_region(fullres_region)\n",
    "point_reader"
   ]
  },
  {
   "cell_type": "code",
   "execution_count": null,
   "id": "53554033-a469-4126-88a3-bd9cec9fd78f",
   "metadata": {},
   "outputs": [],
   "source": [
    "spots = point_reader.data.concat().to_pandas()\n",
    "spots"
   ]
  },
  {
   "cell_type": "code",
   "execution_count": null,
   "id": "34a51b21-2d77-47c2-a3e1-bf159cd1b001",
   "metadata": {},
   "outputs": [],
   "source": [
    "spot_to_hires_matrix = hires_read.coordinate_transform.inverse_transform().augmented_matrix\n",
    "spot_to_hires_matrix"
   ]
  },
  {
   "cell_type": "code",
   "execution_count": null,
   "id": "c7c22f26-613c-44d9-9ce9-7abc64b377f9",
   "metadata": {},
   "outputs": [],
   "source": [
    "scale_x = spot_to_hires_matrix[0, 0]\n",
    "scale_y = spot_to_hires_matrix[1, 1]\n",
    "offset_x = spot_to_hires_matrix[0, 2]\n",
    "offset_y = spot_to_hires_matrix[1, 2]"
   ]
  },
  {
   "cell_type": "code",
   "execution_count": null,
   "id": "021cf9b5-9880-4857-8164-326dc26d8b6d",
   "metadata": {},
   "outputs": [],
   "source": [
    "radius = scene.obsl[\"loc\"].metadata[\"soma_geometry\"]\n",
    "spot_patches = PatchCollection([\n",
    "    mplp.Ellipse(\n",
    "        (scale_x * row[\"x\"] + offset_x, scale_y * row[\"y\"] + offset_y),\n",
    "        width = radius * scale_x,\n",
    "        height = radius * scale_y,\n",
    "        fill=False,\n",
    "        alpha=0.8,\n",
    "    )\n",
    "    for _, row in spots.iterrows()\n",
    "])"
   ]
  },
  {
   "cell_type": "code",
   "execution_count": null,
   "id": "1a67bc46-f768-4a16-8324-828c5a38bd57",
   "metadata": {},
   "outputs": [],
   "source": [
    "fig, ax = plt.subplots()\n",
    "ax.imshow(np.moveaxis(hires_read.data, 0, -1).astype(np.uint8))\n",
    "ax.add_collection(spot_patches)\n",
    "\n",
    "plt.show()"
   ]
  },
  {
   "cell_type": "code",
   "execution_count": null,
   "id": "419c585d-1bc8-44ba-8792-6d35462ae9dd",
   "metadata": {},
   "outputs": [],
   "source": []
  }
 ],
 "metadata": {
  "kernelspec": {
   "display_name": "Python 3 (ipykernel)",
   "language": "python",
   "name": "python3"
  },
  "language_info": {
   "codemirror_mode": {
    "name": "ipython",
    "version": 3
   },
   "file_extension": ".py",
   "mimetype": "text/x-python",
   "name": "python",
   "nbconvert_exporter": "python",
   "pygments_lexer": "ipython3",
   "version": "3.11.6"
  }
 },
 "nbformat": 4,
 "nbformat_minor": 5
}
